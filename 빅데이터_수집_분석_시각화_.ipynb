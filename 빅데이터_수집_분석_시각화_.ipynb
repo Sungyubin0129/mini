{
  "nbformat": 4,
  "nbformat_minor": 0,
  "metadata": {
    "colab": {
      "provenance": [],
      "collapsed_sections": [],
      "authorship_tag": "ABX9TyPxEcPGw2MeoKL6DJzRNnmh",
      "include_colab_link": true
    },
    "kernelspec": {
      "name": "python3",
      "display_name": "Python 3"
    },
    "language_info": {
      "name": "python"
    }
  },
  "cells": [
    {
      "cell_type": "markdown",
      "metadata": {
        "id": "view-in-github",
        "colab_type": "text"
      },
      "source": [
        "<a href=\"https://colab.research.google.com/github/Sungyubin0129/mini/blob/main/%EB%B9%85%EB%8D%B0%EC%9D%B4%ED%84%B0_%EC%88%98%EC%A7%91_%EB%B6%84%EC%84%9D_%EC%8B%9C%EA%B0%81%ED%99%94_.ipynb\" target=\"_parent\"><img src=\"https://colab.research.google.com/assets/colab-badge.svg\" alt=\"Open In Colab\"/></a>"
      ]
    },
    {
      "cell_type": "code",
      "execution_count": null,
      "metadata": {
        "id": "7eb5vxmbsJFn"
      },
      "outputs": [],
      "source": [
        "#numpy 모듈을 사용하기 위한 import\n",
        "import numpy as np\n",
        "# 10/06"
      ]
    },
    {
      "cell_type": "code",
      "source": [
        "import numpy as np\n",
        "ls = [1,2,3,4,5]\n",
        "arr = np.array(ls)\n",
        "print(arr)\n",
        "print(type(arr)) #다차원 배열을 표현하는 타입이 ndarray\n",
        "\n",
        "ls1 = [1,2,3]\n",
        "ls2 = [4,5,6]\n",
        "ls3 = ls1+ls2\n",
        "print(ls3)\n",
        "\n",
        "arr1 = np.array(ls1)\n",
        "arr2 = np.array(ls2)\n",
        "arr3 = arr1+arr2\n",
        "print(arr3)\n",
        "\n",
        "ls=[1,2,3]\n",
        "ls2 = ls*3\n",
        "print(ls2) #리스트*의 수는 원소를 반복해서 나열함\n",
        "\n",
        "arr = np.array(ls)\n",
        "arr2 = arr * 3\n",
        "print(arr2) #numpy의 ndarray* 정수는 행렬 * 정수 연산을 수행\n",
        "\n",
        "#%%time을 마킹하면 수행 시간을 측정해줍니다.\n",
        "#%%time\n",
        "#arr = np.arange(100000)\n",
        "\n",
        "#랜덤 함수\n",
        "arr = np.random.randn(2,3) # 2*3 행렬을 생성 (원소는 랜덤하게 생성)\n",
        "print(arr)\n",
        "\n",
        "arr*3\n",
        "\n",
        "arr.shape # 구조 확인 \n",
        "arr.ndim # 차원 확인 "
      ],
      "metadata": {
        "colab": {
          "base_uri": "https://localhost:8080/"
        },
        "id": "S7uftKRAuBjn",
        "outputId": "7a577034-53d0-4b2e-c295-dc0060b5eaae"
      },
      "execution_count": 16,
      "outputs": [
        {
          "output_type": "stream",
          "name": "stdout",
          "text": [
            "[1 2 3 4 5]\n",
            "<class 'numpy.ndarray'>\n",
            "[1, 2, 3, 4, 5, 6]\n",
            "[5 7 9]\n",
            "[1, 2, 3, 1, 2, 3, 1, 2, 3]\n",
            "[3 6 9]\n",
            "[[-0.1440918  -0.37665633 -0.30205561]\n",
            " [-0.32790656  0.11237994  1.46929729]]\n"
          ]
        },
        {
          "output_type": "execute_result",
          "data": {
            "text/plain": [
              "2"
            ]
          },
          "metadata": {},
          "execution_count": 16
        }
      ]
    },
    {
      "cell_type": "code",
      "source": [
        "arr.shape # 구조 확인 \n",
        "\n"
      ],
      "metadata": {
        "colab": {
          "base_uri": "https://localhost:8080/"
        },
        "id": "sGitJ9bj5XIA",
        "outputId": "bbc1d805-12a4-41c2-f67c-adce48c7e823"
      },
      "execution_count": 20,
      "outputs": [
        {
          "output_type": "execute_result",
          "data": {
            "text/plain": [
              "(2, 3)"
            ]
          },
          "metadata": {},
          "execution_count": 20
        }
      ]
    },
    {
      "cell_type": "code",
      "source": [
        "arr.dtype #원소 타입 확인"
      ],
      "metadata": {
        "colab": {
          "base_uri": "https://localhost:8080/"
        },
        "id": "kNZFevSd5gcP",
        "outputId": "345230e2-9378-4b7d-dc0f-6bea6a8c6773"
      },
      "execution_count": 21,
      "outputs": [
        {
          "output_type": "execute_result",
          "data": {
            "text/plain": [
              "dtype('float64')"
            ]
          },
          "metadata": {},
          "execution_count": 21
        }
      ]
    },
    {
      "cell_type": "code",
      "source": [
        "arr = np.array([1,2,3,4])\n",
        "print(arr)"
      ],
      "metadata": {
        "colab": {
          "base_uri": "https://localhost:8080/"
        },
        "id": "PDG2J33l5kSv",
        "outputId": "f8f6b703-bdd3-4c06-bd16-4b5a5d273359"
      },
      "execution_count": 22,
      "outputs": [
        {
          "output_type": "stream",
          "name": "stdout",
          "text": [
            "[1 2 3 4]\n"
          ]
        }
      ]
    },
    {
      "cell_type": "code",
      "source": [
        "arr = np.array([1,2,3,4.2])#원소 타입 설정 안해도 자동으로 설정해준다.\n",
        "print(arr)\n",
        "print(arr.dtype)\n",
        "print(type(arr[0]))"
      ],
      "metadata": {
        "colab": {
          "base_uri": "https://localhost:8080/"
        },
        "id": "OcWCOg8i5pzH",
        "outputId": "c6f54d7c-4c9b-4406-baba-dfa0f3163f26"
      },
      "execution_count": 23,
      "outputs": [
        {
          "output_type": "stream",
          "name": "stdout",
          "text": [
            "[1.  2.  3.  4.2]\n",
            "float64\n",
            "<class 'numpy.float64'>\n"
          ]
        }
      ]
    },
    {
      "cell_type": "code",
      "source": [
        "arr = np.array([1,2,3,4.2,'a'])#수와 문자열로 구성 => 모두 문자열로 변환\n",
        "print(arr)\n",
        "print(arr.dtype)\n",
        "print(type(arr[0]))"
      ],
      "metadata": {
        "colab": {
          "base_uri": "https://localhost:8080/"
        },
        "id": "3zh6lKoH59KX",
        "outputId": "34a427d0-482a-45a7-b747-a77cc461927d"
      },
      "execution_count": 24,
      "outputs": [
        {
          "output_type": "stream",
          "name": "stdout",
          "text": [
            "['1' '2' '3' '4.2' 'a']\n",
            "<U32\n",
            "<class 'numpy.str_'>\n"
          ]
        }
      ]
    },
    {
      "cell_type": "markdown",
      "source": [
        "다차원 배열 생성\n"
      ],
      "metadata": {
        "id": "pE_qVCls65Fe"
      }
    },
    {
      "cell_type": "code",
      "source": [
        "#다차원 배열 생성\n",
        "ls = [[1,2,3],[4,5,6]]\n",
        "arr = np.array(ls)\n",
        "print(arr)\n",
        "print(type(arr))"
      ],
      "metadata": {
        "colab": {
          "base_uri": "https://localhost:8080/"
        },
        "id": "j-JMAH0161Bq",
        "outputId": "946a80d7-9ffb-412b-ee0c-a542d1f488db"
      },
      "execution_count": 25,
      "outputs": [
        {
          "output_type": "stream",
          "name": "stdout",
          "text": [
            "[[1 2 3]\n",
            " [4 5 6]]\n",
            "<class 'numpy.ndarray'>\n"
          ]
        }
      ]
    },
    {
      "cell_type": "markdown",
      "source": [
        "#소개\n",
        "https://numpy.org/doc/stable/user/whatisnumpy.html\n"
      ],
      "metadata": {
        "id": "GVfalBPEsrXJ"
      }
    },
    {
      "cell_type": "code",
      "source": [
        "arr= np.zeros(10)\n",
        "print(\"구조\",arr.shape)\n",
        "print(\"차원\",arr.ndim)\n",
        "print(\"원소형식\",arr.dtype)"
      ],
      "metadata": {
        "colab": {
          "base_uri": "https://localhost:8080/"
        },
        "id": "Zjh1Md0-7Yu1",
        "outputId": "562e3d81-f6e2-4013-e26e-5aa4fabde1f7"
      },
      "execution_count": 29,
      "outputs": [
        {
          "output_type": "stream",
          "name": "stdout",
          "text": [
            "구조 (0,)\n",
            "차원 1\n",
            "원소형식 float64\n"
          ]
        }
      ]
    },
    {
      "cell_type": "code",
      "source": [
        "arr = np.arange(3,20,6)\n",
        "print(arr)\n",
        "print(\"구조\",arr.shape)\n",
        "print(\"차원\",arr.ndim)\n",
        "print(\"원소형식\",arr.dtype)"
      ],
      "metadata": {
        "colab": {
          "base_uri": "https://localhost:8080/"
        },
        "id": "xGfhHGh67rUh",
        "outputId": "d0e0af9a-38e1-467d-b649-15c432cc1551"
      },
      "execution_count": 34,
      "outputs": [
        {
          "output_type": "stream",
          "name": "stdout",
          "text": [
            "[ 3  9 15]\n",
            "구조 (3,)\n",
            "차원 1\n",
            "원소형식 int64\n"
          ]
        }
      ]
    },
    {
      "cell_type": "code",
      "source": [
        "arr = np.array([1,2,3])\n",
        "print(type(arr[0],type(arr[1]),type(arr[2])))\n",
        "print(arr.dtype)"
      ],
      "metadata": {
        "id": "wjILlnGf82Bn"
      },
      "execution_count": null,
      "outputs": []
    },
    {
      "cell_type": "code",
      "source": [
        "arr = np.array([1,2,3.2])\n",
        "print(type(arr[0],type(arr[1]),type(arr[2])))\n",
        "print(arr.dtype)"
      ],
      "metadata": {
        "id": "DGdBoYXaB46N"
      },
      "execution_count": null,
      "outputs": []
    },
    {
      "cell_type": "code",
      "source": [
        "arr = np.array([1,2,3],dtype = np.int32) # dtype 인자를 이용하여 명시적으로 원소 형식 결정\n",
        "print(type(arr[0],type(arr[1]),type(arr[2])))\n",
        "print(arr.dtype)\n",
        "print(arr)"
      ],
      "metadata": {
        "id": "l1mkYZMgB7Iy"
      },
      "execution_count": null,
      "outputs": []
    },
    {
      "cell_type": "markdown",
      "source": [
        "산술 연산"
      ],
      "metadata": {
        "id": "OkY5BNUbCigr"
      }
    },
    {
      "cell_type": "code",
      "source": [
        "arr = np.array([[1,2,3],[4,5,6]])\n",
        "print(arr)\n",
        "print(\"=====\")\n",
        "arr2= arr*arr\n",
        "print(arr2)"
      ],
      "metadata": {
        "colab": {
          "base_uri": "https://localhost:8080/"
        },
        "id": "bRaebgkFCl76",
        "outputId": "d79375e2-a4f8-436f-956e-f65bcbb26025"
      },
      "execution_count": 35,
      "outputs": [
        {
          "output_type": "stream",
          "name": "stdout",
          "text": [
            "[[1 2 3]\n",
            " [4 5 6]]\n",
            "=====\n",
            "[[ 1  4  9]\n",
            " [16 25 36]]\n"
          ]
        }
      ]
    },
    {
      "cell_type": "code",
      "source": [
        "arr2 = arr**0.5 #0.5** 은 0.5의 거듭제곱인데 루트라고한다.\n",
        "print(arr2)"
      ],
      "metadata": {
        "colab": {
          "base_uri": "https://localhost:8080/"
        },
        "id": "fs_N3GO2DOwT",
        "outputId": "b3e51002-fdf2-47d7-d875-9f0dc522c6f6"
      },
      "execution_count": 36,
      "outputs": [
        {
          "output_type": "stream",
          "name": "stdout",
          "text": [
            "[[1.         1.41421356 1.73205081]\n",
            " [2.         2.23606798 2.44948974]]\n"
          ]
        }
      ]
    },
    {
      "cell_type": "code",
      "source": [
        "arr1 = np.array([1,2,3])\n",
        "arr2 = np.array([4,0,2])\n",
        "filter = arr1>arr2\n",
        "print(filter)"
      ],
      "metadata": {
        "colab": {
          "base_uri": "https://localhost:8080/"
        },
        "id": "5v5aocJ3DqeT",
        "outputId": "ef7a4a63-4872-4ba9-f8e7-30946f0138f3"
      },
      "execution_count": 37,
      "outputs": [
        {
          "output_type": "stream",
          "name": "stdout",
          "text": [
            "[False  True  True]\n"
          ]
        }
      ]
    },
    {
      "cell_type": "code",
      "source": [
        "arr1 = np.array([1,2,3])\n",
        "filter = arr1>=2\n",
        "print(filter)"
      ],
      "metadata": {
        "colab": {
          "base_uri": "https://localhost:8080/"
        },
        "id": "U9mEXN5sHAp3",
        "outputId": "cae10cbc-44ca-4642-cf9e-aabe742c8f10"
      },
      "execution_count": 47,
      "outputs": [
        {
          "output_type": "stream",
          "name": "stdout",
          "text": [
            "[False  True  True]\n"
          ]
        }
      ]
    },
    {
      "cell_type": "code",
      "source": [
        "res = arr[filter]\n",
        "print(res)"
      ],
      "metadata": {
        "colab": {
          "base_uri": "https://localhost:8080/"
        },
        "id": "eN-yPPZtHAu4",
        "outputId": "da21ace8-fcaf-4719-8b3c-c96539cd0ad3"
      },
      "execution_count": 48,
      "outputs": [
        {
          "output_type": "stream",
          "name": "stdout",
          "text": [
            "[[4 5 6]\n",
            " [7 8 9]]\n"
          ]
        }
      ]
    },
    {
      "cell_type": "markdown",
      "source": [
        "색인 및 슬라이싱"
      ],
      "metadata": {
        "id": "hxAE286ED_6D"
      }
    },
    {
      "cell_type": "code",
      "source": [
        "arr = np.arange(1000)\n",
        "print(arr[5:8]) #시작값 5 끝값8\n",
        "print(arr[:8]) #시작값 0 끝값 8\n",
        "print(arr[995:])#시작값 995 끝값 999"
      ],
      "metadata": {
        "colab": {
          "base_uri": "https://localhost:8080/"
        },
        "id": "fNl6MLgNECty",
        "outputId": "4be14bed-69c8-4653-8578-ae7d7db222cd"
      },
      "execution_count": 41,
      "outputs": [
        {
          "output_type": "stream",
          "name": "stdout",
          "text": [
            "[5 6 7]\n",
            "[0 1 2 3 4 5 6 7]\n",
            "[995 996 997 998 999]\n"
          ]
        }
      ]
    },
    {
      "cell_type": "code",
      "source": [
        "arr = np.array([[1,2,3],[4,5,6],[7,8,9]])\n",
        "print(arr[0],arr[1],arr[2])\n",
        "print(arr[0][2])\n",
        "print(arr[0,2])"
      ],
      "metadata": {
        "colab": {
          "base_uri": "https://localhost:8080/"
        },
        "id": "KV7La524Ez6V",
        "outputId": "951a9eb4-0c99-4fdf-9258-68c2d18eb23d"
      },
      "execution_count": 42,
      "outputs": [
        {
          "output_type": "stream",
          "name": "stdout",
          "text": [
            "[1 2 3] [4 5 6] [7 8 9]\n"
          ]
        }
      ]
    },
    {
      "cell_type": "code",
      "source": [
        "#소스 배열을 가지고 간단한 실험을 하기위해서 복사하여 사용하기\n",
        "cp_arr = arr.copy()\n",
        "print(cp_arr)\n",
        "ls1 = cp_arr*2\n",
        "print(ls1)"
      ],
      "metadata": {
        "colab": {
          "base_uri": "https://localhost:8080/"
        },
        "id": "bxltWSAAFb65",
        "outputId": "bc3ae54e-1a43-4fc4-dd47-e8040050d662"
      },
      "execution_count": 43,
      "outputs": [
        {
          "output_type": "stream",
          "name": "stdout",
          "text": [
            "[[1 2 3]\n",
            " [4 5 6]\n",
            " [7 8 9]]\n",
            "[[ 2  4  6]\n",
            " [ 8 10 12]\n",
            " [14 16 18]]\n"
          ]
        }
      ]
    },
    {
      "cell_type": "code",
      "source": [
        "cp_arr = arr.copy()\n",
        "print(cp_arr)\n",
        "cp_arr[0][1]=8\n",
        "print(cp_arr)"
      ],
      "metadata": {
        "colab": {
          "base_uri": "https://localhost:8080/"
        },
        "id": "zH_wBOqnGsfL",
        "outputId": "14a1a4e2-1131-4dff-b2c3-13191b0de06c"
      },
      "execution_count": 46,
      "outputs": [
        {
          "output_type": "stream",
          "name": "stdout",
          "text": [
            "[[1 2 3]\n",
            " [4 5 6]\n",
            " [7 8 9]]\n",
            "[[1 8 3]\n",
            " [4 5 6]\n",
            " [7 8 9]]\n"
          ]
        }
      ]
    },
    {
      "cell_type": "markdown",
      "source": [
        "#구조변경\n"
      ],
      "metadata": {
        "id": "qzqYUuouIfL-"
      }
    },
    {
      "cell_type": "code",
      "source": [
        "#arr=[1,2,3] 구조변경 요철할때 하나의 차원은 -1로 ㅍ표현가능\n",
        "#arr2 = arr.reshape((6,16))\n",
        "#print(\"구조\",arr2.shape)\n",
        "#print(\"차원\",arr2.ndim)"
      ],
      "metadata": {
        "colab": {
          "base_uri": "https://localhost:8080/",
          "height": 227
        },
        "id": "jkhpw_yUIiLS",
        "outputId": "2de7315f-6aba-46f1-ffc5-cda2e0577670"
      },
      "execution_count": 53,
      "outputs": [
        {
          "output_type": "error",
          "ename": "AttributeError",
          "evalue": "ignored",
          "traceback": [
            "\u001b[0;31m---------------------------------------------------------------------------\u001b[0m",
            "\u001b[0;31mAttributeError\u001b[0m                            Traceback (most recent call last)",
            "\u001b[0;32m<ipython-input-53-8333604d081f>\u001b[0m in \u001b[0;36m<module>\u001b[0;34m\u001b[0m\n\u001b[1;32m      1\u001b[0m \u001b[0marr\u001b[0m\u001b[0;34m=\u001b[0m\u001b[0;34m[\u001b[0m\u001b[0;36m1\u001b[0m\u001b[0;34m,\u001b[0m\u001b[0;36m2\u001b[0m\u001b[0;34m,\u001b[0m\u001b[0;36m3\u001b[0m\u001b[0;34m]\u001b[0m\u001b[0;34m\u001b[0m\u001b[0;34m\u001b[0m\u001b[0m\n\u001b[0;32m----> 2\u001b[0;31m \u001b[0marr2\u001b[0m \u001b[0;34m=\u001b[0m \u001b[0marr\u001b[0m\u001b[0;34m.\u001b[0m\u001b[0mreshape\u001b[0m\u001b[0;34m(\u001b[0m\u001b[0;34m(\u001b[0m\u001b[0;36m6\u001b[0m\u001b[0;34m,\u001b[0m\u001b[0;36m16\u001b[0m\u001b[0;34m)\u001b[0m\u001b[0;34m)\u001b[0m\u001b[0;34m\u001b[0m\u001b[0;34m\u001b[0m\u001b[0m\n\u001b[0m\u001b[1;32m      3\u001b[0m \u001b[0mprint\u001b[0m\u001b[0;34m(\u001b[0m\u001b[0;34m\"구조\"\u001b[0m\u001b[0;34m,\u001b[0m\u001b[0marr2\u001b[0m\u001b[0;34m.\u001b[0m\u001b[0mshape\u001b[0m\u001b[0;34m)\u001b[0m\u001b[0;34m\u001b[0m\u001b[0;34m\u001b[0m\u001b[0m\n\u001b[1;32m      4\u001b[0m \u001b[0mprint\u001b[0m\u001b[0;34m(\u001b[0m\u001b[0;34m\"차원\"\u001b[0m\u001b[0;34m,\u001b[0m\u001b[0marr2\u001b[0m\u001b[0;34m.\u001b[0m\u001b[0mndim\u001b[0m\u001b[0;34m)\u001b[0m\u001b[0;34m\u001b[0m\u001b[0;34m\u001b[0m\u001b[0m\n",
            "\u001b[0;31mAttributeError\u001b[0m: 'list' object has no attribute 'reshape'"
          ]
        }
      ]
    },
    {
      "cell_type": "code",
      "source": [
        "#arr2 = arr.transpose() #arr.T와 arr.transose()는 같은 결과(전치행렬)를 반복한다.\n",
        "#print(arr)\n",
        "#print(\"----\")\n",
        "#print(arr2)"
      ],
      "metadata": {
        "colab": {
          "base_uri": "https://localhost:8080/",
          "height": 227
        },
        "id": "knlS0v8HIzJp",
        "outputId": "da5d4d55-77ea-4b58-8a8a-50ba5c92b784"
      },
      "execution_count": 54,
      "outputs": [
        {
          "output_type": "error",
          "ename": "AttributeError",
          "evalue": "ignored",
          "traceback": [
            "\u001b[0;31m---------------------------------------------------------------------------\u001b[0m",
            "\u001b[0;31mAttributeError\u001b[0m                            Traceback (most recent call last)",
            "\u001b[0;32m<ipython-input-54-8e2db1080aba>\u001b[0m in \u001b[0;36m<module>\u001b[0;34m\u001b[0m\n\u001b[0;32m----> 1\u001b[0;31m \u001b[0marr2\u001b[0m \u001b[0;34m=\u001b[0m \u001b[0marr\u001b[0m\u001b[0;34m.\u001b[0m\u001b[0mtranspose\u001b[0m\u001b[0;34m(\u001b[0m\u001b[0;34m)\u001b[0m \u001b[0;31m#arr.T와 arr.transose()는 같은 결과(전치행렬)를 반복한다.\u001b[0m\u001b[0;34m\u001b[0m\u001b[0;34m\u001b[0m\u001b[0m\n\u001b[0m\u001b[1;32m      2\u001b[0m \u001b[0mprint\u001b[0m\u001b[0;34m(\u001b[0m\u001b[0marr\u001b[0m\u001b[0;34m)\u001b[0m\u001b[0;34m\u001b[0m\u001b[0;34m\u001b[0m\u001b[0m\n\u001b[1;32m      3\u001b[0m \u001b[0mprint\u001b[0m\u001b[0;34m(\u001b[0m\u001b[0;34m\"----\"\u001b[0m\u001b[0;34m)\u001b[0m\u001b[0;34m\u001b[0m\u001b[0;34m\u001b[0m\u001b[0m\n\u001b[1;32m      4\u001b[0m \u001b[0mprint\u001b[0m\u001b[0;34m(\u001b[0m\u001b[0marr2\u001b[0m\u001b[0;34m)\u001b[0m\u001b[0;34m\u001b[0m\u001b[0;34m\u001b[0m\u001b[0m\n",
            "\u001b[0;31mAttributeError\u001b[0m: 'list' object has no attribute 'transpose'"
          ]
        }
      ]
    },
    {
      "cell_type": "code",
      "source": [
        "arr1 = np.random.randn(2,3)\n",
        "arr2 = np.random.randn(4,5)\n",
        "arr3 = np.maximum(arr1,arr2)\n",
        "print(arr3)"
      ],
      "metadata": {
        "colab": {
          "base_uri": "https://localhost:8080/",
          "height": 227
        },
        "id": "jTl2zSmKKKuy",
        "outputId": "b8270504-5406-42e9-c6d4-b1a63e418c71"
      },
      "execution_count": 56,
      "outputs": [
        {
          "output_type": "error",
          "ename": "ValueError",
          "evalue": "ignored",
          "traceback": [
            "\u001b[0;31m---------------------------------------------------------------------------\u001b[0m",
            "\u001b[0;31mValueError\u001b[0m                                Traceback (most recent call last)",
            "\u001b[0;32m<ipython-input-56-cdbefbe5fa87>\u001b[0m in \u001b[0;36m<module>\u001b[0;34m\u001b[0m\n\u001b[1;32m      1\u001b[0m \u001b[0marr1\u001b[0m \u001b[0;34m=\u001b[0m \u001b[0mnp\u001b[0m\u001b[0;34m.\u001b[0m\u001b[0mrandom\u001b[0m\u001b[0;34m.\u001b[0m\u001b[0mrandn\u001b[0m\u001b[0;34m(\u001b[0m\u001b[0;36m2\u001b[0m\u001b[0;34m,\u001b[0m\u001b[0;36m3\u001b[0m\u001b[0;34m)\u001b[0m\u001b[0;34m\u001b[0m\u001b[0;34m\u001b[0m\u001b[0m\n\u001b[1;32m      2\u001b[0m \u001b[0marr2\u001b[0m \u001b[0;34m=\u001b[0m \u001b[0mnp\u001b[0m\u001b[0;34m.\u001b[0m\u001b[0mrandom\u001b[0m\u001b[0;34m.\u001b[0m\u001b[0mrandn\u001b[0m\u001b[0;34m(\u001b[0m\u001b[0;36m4\u001b[0m\u001b[0;34m,\u001b[0m\u001b[0;36m5\u001b[0m\u001b[0;34m)\u001b[0m\u001b[0;34m\u001b[0m\u001b[0;34m\u001b[0m\u001b[0m\n\u001b[0;32m----> 3\u001b[0;31m \u001b[0marr3\u001b[0m \u001b[0;34m=\u001b[0m \u001b[0mnp\u001b[0m\u001b[0;34m.\u001b[0m\u001b[0mmaximum\u001b[0m\u001b[0;34m(\u001b[0m\u001b[0marr1\u001b[0m\u001b[0;34m,\u001b[0m\u001b[0marr2\u001b[0m\u001b[0;34m)\u001b[0m\u001b[0;34m\u001b[0m\u001b[0;34m\u001b[0m\u001b[0m\n\u001b[0m\u001b[1;32m      4\u001b[0m \u001b[0mprint\u001b[0m\u001b[0;34m(\u001b[0m\u001b[0marr3\u001b[0m\u001b[0;34m)\u001b[0m\u001b[0;34m\u001b[0m\u001b[0;34m\u001b[0m\u001b[0m\n",
            "\u001b[0;31mValueError\u001b[0m: operands could not be broadcast together with shapes (2,3) (4,5) "
          ]
        }
      ]
    },
    {
      "cell_type": "code",
      "source": [],
      "metadata": {
        "id": "QbjUNWvwgUCm"
      },
      "execution_count": null,
      "outputs": []
    },
    {
      "cell_type": "markdown",
      "source": [
        "#NumPy 안으로\n"
      ],
      "metadata": {
        "id": "XuNQ_akJgZGC"
      }
    },
    {
      "cell_type": "markdown",
      "source": [],
      "metadata": {
        "id": "q8DasjQzgbB1"
      }
    },
    {
      "cell_type": "code",
      "source": [
        "xs = [x*x+2*x+3 for x in range(10)] #리스트 컴프리헨션\n",
        "print (xs)\n"
      ],
      "metadata": {
        "id": "rwESd1iWgcyq"
      },
      "execution_count": null,
      "outputs": []
    },
    {
      "cell_type": "code",
      "source": [
        "xarr  = np.array([1.1,1,1.2,1.3,1.4])\n",
        "yarr = np.array([2.1,2.2,2.3,2.4])\n",
        "cond= np.array({True,False,False,False,False})\n",
        "result = np.where(cond,xarr,yarr)\n",
        "print(result)"
      ],
      "metadata": {
        "colab": {
          "base_uri": "https://localhost:8080/",
          "height": 263
        },
        "id": "puBiKK2kg2qp",
        "outputId": "71bd6e99-5368-4f88-9fae-d1b50339b829"
      },
      "execution_count": 59,
      "outputs": [
        {
          "output_type": "error",
          "ename": "ValueError",
          "evalue": "ignored",
          "traceback": [
            "\u001b[0;31m---------------------------------------------------------------------------\u001b[0m",
            "\u001b[0;31mValueError\u001b[0m                                Traceback (most recent call last)",
            "\u001b[0;32m<ipython-input-59-86cbeec2de3e>\u001b[0m in \u001b[0;36m<module>\u001b[0;34m\u001b[0m\n\u001b[1;32m      2\u001b[0m \u001b[0myarr\u001b[0m \u001b[0;34m=\u001b[0m \u001b[0mnp\u001b[0m\u001b[0;34m.\u001b[0m\u001b[0marray\u001b[0m\u001b[0;34m(\u001b[0m\u001b[0;34m[\u001b[0m\u001b[0;36m2.1\u001b[0m\u001b[0;34m,\u001b[0m\u001b[0;36m2.2\u001b[0m\u001b[0;34m,\u001b[0m\u001b[0;36m2.3\u001b[0m\u001b[0;34m,\u001b[0m\u001b[0;36m2.4\u001b[0m\u001b[0;34m]\u001b[0m\u001b[0;34m)\u001b[0m\u001b[0;34m\u001b[0m\u001b[0;34m\u001b[0m\u001b[0m\n\u001b[1;32m      3\u001b[0m \u001b[0mcond\u001b[0m\u001b[0;34m=\u001b[0m \u001b[0mnp\u001b[0m\u001b[0;34m.\u001b[0m\u001b[0marray\u001b[0m\u001b[0;34m(\u001b[0m\u001b[0;34m{\u001b[0m\u001b[0;32mTrue\u001b[0m\u001b[0;34m,\u001b[0m\u001b[0;32mFalse\u001b[0m\u001b[0;34m,\u001b[0m\u001b[0;32mFalse\u001b[0m\u001b[0;34m,\u001b[0m\u001b[0;32mFalse\u001b[0m\u001b[0;34m,\u001b[0m\u001b[0;32mFalse\u001b[0m\u001b[0;34m}\u001b[0m\u001b[0;34m)\u001b[0m\u001b[0;34m\u001b[0m\u001b[0;34m\u001b[0m\u001b[0m\n\u001b[0;32m----> 4\u001b[0;31m \u001b[0mresult\u001b[0m \u001b[0;34m=\u001b[0m \u001b[0mnp\u001b[0m\u001b[0;34m.\u001b[0m\u001b[0mwhere\u001b[0m\u001b[0;34m(\u001b[0m\u001b[0mcond\u001b[0m\u001b[0;34m,\u001b[0m\u001b[0mxarr\u001b[0m\u001b[0;34m,\u001b[0m\u001b[0myarr\u001b[0m\u001b[0;34m)\u001b[0m\u001b[0;34m\u001b[0m\u001b[0;34m\u001b[0m\u001b[0m\n\u001b[0m\u001b[1;32m      5\u001b[0m \u001b[0mprint\u001b[0m\u001b[0;34m(\u001b[0m\u001b[0mresult\u001b[0m\u001b[0;34m)\u001b[0m\u001b[0;34m\u001b[0m\u001b[0;34m\u001b[0m\u001b[0m\n",
            "\u001b[0;32m<__array_function__ internals>\u001b[0m in \u001b[0;36mwhere\u001b[0;34m(*args, **kwargs)\u001b[0m\n",
            "\u001b[0;31mValueError\u001b[0m: operands could not be broadcast together with shapes () (5,) (4,) "
          ]
        }
      ]
    },
    {
      "cell_type": "code",
      "source": [
        "ls1 = [1,2,3]\n",
        "ls2 = ['가','나','다']\n",
        "\n",
        "for e1,e2 in zip(ls1,ls2):\n",
        "  print(e1,e2)"
      ],
      "metadata": {
        "id": "KDipftNniDmj"
      },
      "execution_count": null,
      "outputs": []
    },
    {
      "cell_type": "code",
      "source": [
        "result = [(x if c else y)for x,y,c in zip(xarr,yarr,cond)]\n",
        "print(result)"
      ],
      "metadata": {
        "id": "wBBiiZ4biVxW"
      },
      "execution_count": null,
      "outputs": []
    },
    {
      "cell_type": "code",
      "source": [
        "result=[]\n",
        "for x,y,c in zip(xarr,yarr,cond):\n",
        "  if c:\n",
        "    result.append(x)\n",
        "  else:\n",
        "    result.append(y)\n",
        "print(result)"
      ],
      "metadata": {
        "id": "lOYhXrTiik6o"
      },
      "execution_count": null,
      "outputs": []
    },
    {
      "cell_type": "code",
      "source": [
        "heights = np.random.normal(172,5,100) #평균 172.4 표준편차 5인 표본 1000개 생성\n",
        "print(heights)"
      ],
      "metadata": {
        "colab": {
          "base_uri": "https://localhost:8080/"
        },
        "id": "7PfwUN93jFMp",
        "outputId": "3001da42-128f-4d22-d6e9-fd68a119a1b0"
      },
      "execution_count": 65,
      "outputs": [
        {
          "output_type": "stream",
          "name": "stdout",
          "text": [
            "[166.91326992 168.37247549 173.82598649 174.215029   170.66998512\n",
            " 175.59837724 166.45949181 167.79495105 172.31694279 172.48146376\n",
            " 178.90116328 168.96649264 165.09530287 165.39425296 171.0234562\n",
            " 178.62855672 172.43816565 168.63070265 174.11778675 176.73309464\n",
            " 169.20221759 171.2200284  179.81110373 185.35649475 167.92117344\n",
            " 176.8192722  165.86643777 179.74448636 172.79527836 168.89039836\n",
            " 168.99216582 162.9976453  176.04633544 170.49848328 170.72747553\n",
            " 174.54126947 182.9605354  172.31735696 168.13996094 170.99394735\n",
            " 170.38941234 173.46398418 182.75363793 176.72117926 173.21237356\n",
            " 178.39091434 171.5748648  165.91142163 177.58762802 177.21792421\n",
            " 168.12488187 172.32994579 171.14952371 171.14454628 167.07726131\n",
            " 172.73777795 171.12549559 173.84744106 178.69615138 171.61666007\n",
            " 166.11501029 177.41732657 166.79430366 175.93683272 171.60772769\n",
            " 182.74916981 178.00629326 177.89254076 174.98846724 168.15290861\n",
            " 165.44401766 177.54266286 168.80027724 172.88835973 171.37812998\n",
            " 167.48097443 174.43662337 165.08920509 165.53786539 179.34533909\n",
            " 172.4440214  169.32728828 173.48982025 168.96955006 167.25715635\n",
            " 183.5342709  169.77518155 178.73724452 175.69334764 172.70329618\n",
            " 171.7073239  170.30157435 174.81432148 173.94205387 178.33006839\n",
            " 173.89277241 172.18549715 170.29418678 163.84501483 170.68909728]\n"
          ]
        }
      ]
    },
    {
      "cell_type": "code",
      "source": [
        "print('평균 : ',heights.mean()) \n",
        "print('합계 : ',heights.sum())"
      ],
      "metadata": {
        "colab": {
          "base_uri": "https://localhost:8080/"
        },
        "id": "7-o-AZtojkxL",
        "outputId": "2662e46e-1dd9-401e-a99f-b9e6a10d4228"
      },
      "execution_count": 62,
      "outputs": [
        {
          "output_type": "stream",
          "name": "stdout",
          "text": [
            "평균 :  172.10324688593903\n",
            "합계 :  172103.24688593904\n"
          ]
        }
      ]
    },
    {
      "cell_type": "code",
      "source": [
        "h2 = heights.reshape(20,-1)\n",
        "print('구조',h2.shape)\n",
        "print(\"평균(축1)\",h2.mean(axis =1))#로우 별 평균\n",
        "print(\"평균(축0)\",h2.mean(axis =0))#컬럼 별 평균\n",
        "print('합계(축0)',h2.sum(axis = 1))#로우 별 평균\n",
        "print('합계(축1)',h2.sum(axis = 0))#컬럼 별 평균\n",
        "#분산밀도에 따라 편차의 수가 바뀐다. \n",
        "print('분산',h2.var())\n",
        "print('표준편차',h2.std())\n",
        "#최댓값 최솟값\n",
        "print('최솟값이있는 위치',heights.argmin())\n",
        "print('최댓값이있는 위치',heights.argmax())\n",
        "print(heights[heights.argmin()])\n"
      ],
      "metadata": {
        "colab": {
          "base_uri": "https://localhost:8080/"
        },
        "id": "QwCOvr8JllOQ",
        "outputId": "c3a0c510-f1d0-4445-9660-f6fcf1de0c6f"
      },
      "execution_count": 74,
      "outputs": [
        {
          "output_type": "stream",
          "name": "stdout",
          "text": [
            "구조 (20, 5)\n",
            "평균(축1) [170.7993492  170.93024533 169.87613359 174.10966128 174.70220358\n",
            " 172.82317461 169.85242108 173.79061403 175.30811745 174.1365506\n",
            " 169.96523179 173.60470521 171.57424019 176.35787593 171.2106895\n",
            " 170.37800147 170.29756727 176.08866816 173.8190684  170.18131369]\n",
            "평균(축0) [173.13034198 171.83840051 172.64200748 172.93926126 171.90144686]\n",
            "합계(축0) [853.99674602 854.65122664 849.38066795 870.54830641 873.51101791\n",
            " 864.11587305 849.26210538 868.95307013 876.54058727 870.682753\n",
            " 849.82615896 868.02352606 857.87120094 881.78937967 856.05344748\n",
            " 851.89000736 851.48783633 880.44334079 869.095342   850.90656844]\n",
            "합계(축1) [3462.60683955 3436.76801021 3452.84014965 3458.78522527 3438.02893711]\n",
            "분산 22.77863820063393\n",
            "표준편차 4.772697162049352\n",
            "최솟값이있는 위치 31\n",
            "최댓값이있는 위치 23\n",
            "162.99764530223916\n"
          ]
        }
      ]
    },
    {
      "cell_type": "code",
      "source": [
        "arr = np.array([1,2,3,5,7])\n",
        "print('누적합계 :',arr.cumsum())\n",
        "print('누적곱:',arr.cumprod())"
      ],
      "metadata": {
        "colab": {
          "base_uri": "https://localhost:8080/"
        },
        "id": "31kguBFrlxgV",
        "outputId": "6331a733-006e-4b0f-9e04-39ef6fac78b6"
      },
      "execution_count": 78,
      "outputs": [
        {
          "output_type": "stream",
          "name": "stdout",
          "text": [
            "누적합계 : [ 1  3  6 11 18]\n",
            "누적곱: [  1   2   6  30 210]\n"
          ]
        }
      ]
    },
    {
      "cell_type": "code",
      "source": [
        "#도수 조사하는 라이브러리 / 이 안에 어떤수가 있는지 체크 하는 것\n",
        "uni = np.unique(arr)\n",
        "print(uni)"
      ],
      "metadata": {
        "colab": {
          "base_uri": "https://localhost:8080/"
        },
        "id": "e6RDUf1CoyN2",
        "outputId": "91748062-07b0-49d4-9b79-608344c1120e"
      },
      "execution_count": 79,
      "outputs": [
        {
          "output_type": "stream",
          "name": "stdout",
          "text": [
            "[1 2 3 5 7]\n"
          ]
        }
      ]
    },
    {
      "cell_type": "code",
      "source": [
        "x= np.array([[1,2,3],[4,5,6]])\n",
        "y= np.array([[2,3],[5,6],[8,9]])\n",
        "re = x.dot(y)\n",
        "print(x)\n",
        "print(y)\n",
        "print(re)\n",
        "#선형 대수 "
      ],
      "metadata": {
        "colab": {
          "base_uri": "https://localhost:8080/"
        },
        "id": "grM1J_w6vc7z",
        "outputId": "1119636b-f030-47cc-b31c-ad5632a3bbe7"
      },
      "execution_count": 81,
      "outputs": [
        {
          "output_type": "stream",
          "name": "stdout",
          "text": [
            "[[1 2 3]\n",
            " [4 5 6]]\n",
            "[[2 3]\n",
            " [5 6]\n",
            " [8 9]]\n",
            "[[36 42]\n",
            " [81 96]]\n"
          ]
        }
      ]
    },
    {
      "cell_type": "code",
      "source": [
        "for _ in range(10):\n",
        "  print(np.random.uniform(-2,3))\n",
        "  #uniform -> -2에서 3사이에 랜덤한 실수 반환 "
      ],
      "metadata": {
        "colab": {
          "base_uri": "https://localhost:8080/"
        },
        "id": "WiJV-jUoxFo1",
        "outputId": "e74926b1-d513-4835-e2b0-a2211f36b6ae"
      },
      "execution_count": 82,
      "outputs": [
        {
          "output_type": "stream",
          "name": "stdout",
          "text": [
            "-1.7114738445400506\n",
            "-0.841920521725259\n",
            "2.3207155548321685\n",
            "0.0998349456670784\n",
            "-0.5385509341460146\n",
            "2.462505427527569\n",
            "2.958719860826383\n",
            "1.3488069495083286\n",
            "1.5234610431165518\n",
            "2.850752058969783\n"
          ]
        }
      ]
    },
    {
      "cell_type": "code",
      "source": [
        "for _ in range(20):\n",
        "    print(np.random.randint(1,5),end = ' ')# 1에서 5사이의 랜덤한 정수 반환\n",
        "print()\n",
        "#random uniform, random randint "
      ],
      "metadata": {
        "colab": {
          "base_uri": "https://localhost:8080/"
        },
        "id": "8UrKmG1NxYQ6",
        "outputId": "0a477f7d-03c3-46e2-ab0e-d61f5c3b90b9"
      },
      "execution_count": 83,
      "outputs": [
        {
          "output_type": "stream",
          "name": "stdout",
          "text": [
            "4 1 4 3 1 2 2 3 3 2 2 3 2 1 1 3 1 4 1 3 \n"
          ]
        }
      ]
    },
    {
      "cell_type": "code",
      "source": [
        "volan = [1,7,2,8,9]\n",
        "for _ in range(20):\n",
        "   print(np.random.choice(volan),end = ' ')\n",
        "print()\n"
      ],
      "metadata": {
        "colab": {
          "base_uri": "https://localhost:8080/"
        },
        "id": "6vRrfUAyysc5",
        "outputId": "ee698798-844e-40a9-9366-a9a01d471120"
      },
      "execution_count": 84,
      "outputs": [
        {
          "output_type": "stream",
          "name": "stdout",
          "text": [
            "8 1 7 2 8 2 9 2 8 8 1 1 8 1 1 1 9 1 7 8 \n"
          ]
        }
      ]
    },
    {
      "cell_type": "code",
      "source": [],
      "metadata": {
        "id": "i7GNzuwBzoZj"
      },
      "execution_count": null,
      "outputs": []
    },
    {
      "cell_type": "code",
      "source": [],
      "metadata": {
        "id": "peiOiSJk0Vem"
      },
      "execution_count": null,
      "outputs": []
    }
  ]
}